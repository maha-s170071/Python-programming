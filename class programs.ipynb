{
  "nbformat": 4,
  "nbformat_minor": 0,
  "metadata": {
    "colab": {
      "provenance": [],
      "collapsed_sections": []
    },
    "kernelspec": {
      "name": "python3",
      "display_name": "Python 3"
    },
    "language_info": {
      "name": "python"
    }
  },
  "cells": [
    {
      "cell_type": "code",
      "execution_count": null,
      "metadata": {
        "colab": {
          "base_uri": "https://localhost:8080/"
        },
        "id": "-koq1VDPbgop",
        "outputId": "b0a2dc39-b6cd-4a9c-9c62-c38b9383c09a"
      },
      "outputs": [
        {
          "output_type": "stream",
          "name": "stdout",
          "text": [
            "<class 'int'>\n",
            "<class 'str'>\n"
          ]
        }
      ],
      "source": [
        "#You can get the data type of any object by using the type() function\n",
        "x=5\n",
        "print(type(x))\n",
        "y=\"maha\"\n",
        "print(type(y))"
      ]
    },
    {
      "cell_type": "code",
      "source": [
        "#Get the characters from position 0 to position 4\n",
        "b = \"Maha lakshmi\"\n",
        "print(b[0:4])"
      ],
      "metadata": {
        "colab": {
          "base_uri": "https://localhost:8080/"
        },
        "id": "AHh4ILRPeuSh",
        "outputId": "e50e7e3b-8545-4c23-9ee8-4d72572b39fc"
      },
      "execution_count": null,
      "outputs": [
        {
          "output_type": "stream",
          "name": "stdout",
          "text": [
            "Maha\n"
          ]
        }
      ]
    },
    {
      "cell_type": "code",
      "source": [
        "s=\"RGUKT SRIKAKULAM\"#Get the characters from the start to position 5 \n",
        "print(s[:5])"
      ],
      "metadata": {
        "colab": {
          "base_uri": "https://localhost:8080/"
        },
        "id": "6x8W-s7ZxOTS",
        "outputId": "bf85525d-2dfc-44b0-bf1c-ea8805547f74"
      },
      "execution_count": null,
      "outputs": [
        {
          "output_type": "stream",
          "name": "stdout",
          "text": [
            "RGUKT\n"
          ]
        }
      ]
    },
    {
      "cell_type": "code",
      "source": [
        "#Negative Indexing\n",
        "s=\"hello world\"\n",
        "print(s[-2:-5])"
      ],
      "metadata": {
        "colab": {
          "base_uri": "https://localhost:8080/"
        },
        "id": "Gnt0SoA-079c",
        "outputId": "da7f87b4-e2e6-428a-8e54-c7480cfc7237"
      },
      "execution_count": null,
      "outputs": [
        {
          "output_type": "stream",
          "name": "stdout",
          "text": [
            "\n"
          ]
        }
      ]
    },
    {
      "cell_type": "code",
      "source": [
        "s=\"hello world\"\n",
        "print(s[-5:-2])"
      ],
      "metadata": {
        "colab": {
          "base_uri": "https://localhost:8080/"
        },
        "id": "47LPOKNi1e7a",
        "outputId": "f2f089ae-977f-475e-8585-da62f746a19b"
      },
      "execution_count": null,
      "outputs": [
        {
          "output_type": "stream",
          "name": "stdout",
          "text": [
            "wor\n"
          ]
        }
      ]
    },
    {
      "cell_type": "code",
      "source": [
        "#slice(start, stop, step)\n",
        "s=\"mahalakshmi\"\n",
        "print(s[1:5:2])"
      ],
      "metadata": {
        "colab": {
          "base_uri": "https://localhost:8080/"
        },
        "id": "qo_0LdAW2mBT",
        "outputId": "674d1eab-88e8-4e74-bc96-e581bb7ef752"
      },
      "execution_count": null,
      "outputs": [
        {
          "output_type": "stream",
          "name": "stdout",
          "text": [
            "aa\n"
          ]
        }
      ]
    },
    {
      "cell_type": "code",
      "source": [
        "#string reverse\n",
        "s=\"python programming\"\n",
        "print(s[::-1])\n"
      ],
      "metadata": {
        "colab": {
          "base_uri": "https://localhost:8080/"
        },
        "id": "pwB2N9pE3jFK",
        "outputId": "4ee2cc55-985d-4cbd-a484-00ec5b33d15b"
      },
      "execution_count": null,
      "outputs": [
        {
          "output_type": "stream",
          "name": "stdout",
          "text": [
            "gnimmargorp nohtyp\n"
          ]
        }
      ]
    }
  ]
}
