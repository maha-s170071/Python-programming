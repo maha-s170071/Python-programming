{
  "nbformat": 4,
  "nbformat_minor": 0,
  "metadata": {
    "colab": {
      "provenance": []
    },
    "kernelspec": {
      "name": "python3",
      "display_name": "Python 3"
    },
    "language_info": {
      "name": "python"
    }
  },
  "cells": [
    {
      "cell_type": "code",
      "execution_count": 1,
      "metadata": {
        "colab": {
          "base_uri": "https://localhost:8080/"
        },
        "id": "_kEk6WcYd75E",
        "outputId": "6efb9fbc-38fc-496a-e2c1-ac9495c2d3fe"
      },
      "outputs": [
        {
          "output_type": "stream",
          "name": "stdout",
          "text": [
            "h   r tnrrmglsnimeNGph rgni ni\n"
          ]
        }
      ],
      "source": [
        "s=\"This is My First Python Programming class and i am LearNING  python string and its function\"\n",
        "#1 Extract data from index one to index 300 with a jump of 3 using slicing.Slicing is the process of obtaining a portion (substring) of a string by using its indices. \n",
        "print(s[1:301:3])\n"
      ]
    },
    {
      "cell_type": "code",
      "source": [
        "#2.reverse a string without using reverse function.\n",
        "#using negitive slicing we can reverse string\n",
        "print(s[::-1])\n"
      ],
      "metadata": {
        "colab": {
          "base_uri": "https://localhost:8080/"
        },
        "id": "MjNoTV9_gNbc",
        "outputId": "ed270a71-ed84-4d8a-efca-a8dbd12ae728"
      },
      "execution_count": 2,
      "outputs": [
        {
          "output_type": "stream",
          "name": "stdout",
          "text": [
            "noitcnuf sti dna gnirts nohtyp  GNINraeL ma i dna ssalc gnimmargorP nohtyP tsriF yM si sihT\n"
          ]
        }
      ]
    },
    {
      "cell_type": "code",
      "source": [
        "#3.Try to split a string after conversion of entire string in upper case letter\n",
        "# upper() is a function convert the whole string into uppercase letter\n",
        "upper_string=s.upper()\n",
        "# The split() method splits a string into a list.You can specify the separator, default separator is any whitespace.\n",
        "print(upper_string.split())"
      ],
      "metadata": {
        "colab": {
          "base_uri": "https://localhost:8080/"
        },
        "id": "YZcUQJ_8qwfg",
        "outputId": "30421586-bd0b-46ff-984f-3aa6655fffa3"
      },
      "execution_count": 4,
      "outputs": [
        {
          "output_type": "stream",
          "name": "stdout",
          "text": [
            "['THIS', 'IS', 'MY', 'FIRST', 'PYTHON', 'PROGRAMMING', 'CLASS', 'AND', 'I', 'AM', 'LEARNING', 'PYTHON', 'STRING', 'AND', 'ITS', 'FUNCTION']\n"
          ]
        }
      ]
    },
    {
      "cell_type": "code",
      "source": [
        "#4 string.lower() is a function to convert the whole string into lower case letter\n",
        "print(s.lower())"
      ],
      "metadata": {
        "colab": {
          "base_uri": "https://localhost:8080/"
        },
        "id": "MVuWwi7Psph9",
        "outputId": "0233155e-00e5-44df-9881-860eef30bf1a"
      },
      "execution_count": 5,
      "outputs": [
        {
          "output_type": "stream",
          "name": "stdout",
          "text": [
            "this is my first python programming class and i am learning  python string and its function\n"
          ]
        }
      ]
    },
    {
      "cell_type": "code",
      "source": [
        "#5 The capitalize() method returns a string where the first character is upper case, and the rest is lower case.\n",
        "print(s.capitalize())"
      ],
      "metadata": {
        "colab": {
          "base_uri": "https://localhost:8080/"
        },
        "id": "LOv0Qd3ntRmg",
        "outputId": "051abbc3-9395-4499-acaf-7a5961550b12"
      },
      "execution_count": 6,
      "outputs": [
        {
          "output_type": "stream",
          "name": "stdout",
          "text": [
            "This is my first python programming class and i am learning  python string and its function\n"
          ]
        }
      ]
    },
    {
      "cell_type": "code",
      "source": [
        "#6 Diffrence between isalnum() and isalpha()\n",
        "\"\"\"\n",
        "The isalnum() method returns True if all the characters are alphanumeric, meaning alphabet letter (a-z) or numbers (0-9)\n",
        "isalpha() method True if all charecters returns True is all charecters are alphabet letter (a-z)\n",
        "\"\"\"\n",
        "s_1=\"maha123\"\n",
        "print(s_1.isalnum())\n",
        "print(s_1.isalpha())"
      ],
      "metadata": {
        "colab": {
          "base_uri": "https://localhost:8080/"
        },
        "id": "G93_mQZWtx-m",
        "outputId": "0f06b1f4-5770-4d17-b93e-6fbf701e1e71"
      },
      "execution_count": 8,
      "outputs": [
        {
          "output_type": "stream",
          "name": "stdout",
          "text": [
            "True\n",
            "False\n"
          ]
        }
      ]
    },
    {
      "cell_type": "code",
      "source": [
        "#7The expandtabs() method returns a copy of string with all tab characters '\\t' replaced with whitespace characters until the next multiple of tabsize parameter\n",
        "string = 'welcome\\tto the \\t world'\n",
        "\n",
        "# no argument is passed\n",
        "# default tabsize is 8\n",
        "result = string.expandtabs()\n",
        "\n",
        "print(result)"
      ],
      "metadata": {
        "colab": {
          "base_uri": "https://localhost:8080/"
        },
        "id": "je5ua9wowUGf",
        "outputId": "e9a3989b-ae8c-4d55-c427-782185c7c3fe"
      },
      "execution_count": 9,
      "outputs": [
        {
          "output_type": "stream",
          "name": "stdout",
          "text": [
            "welcome to the   world\n"
          ]
        }
      ]
    },
    {
      "cell_type": "code",
      "source": [
        "#8strip() is method to remove the whitespaces at left and right side of string\n",
        "#lstrip() is a method to remove whitespaces at left side of thestring only\n",
        "#rstrip() is a method to remove the white spaces at right side of the string\n",
        "string=\"   Python prigramming   \"\n",
        "print(string.strip())\n",
        "print(string.lstrip())\n",
        "print(string.rstrip())"
      ],
      "metadata": {
        "colab": {
          "base_uri": "https://localhost:8080/"
        },
        "id": "DhvlSihlxXw3",
        "outputId": "546184f5-d377-44f7-ea24-abac1504715a"
      },
      "execution_count": 10,
      "outputs": [
        {
          "output_type": "stream",
          "name": "stdout",
          "text": [
            "Python prigramming\n",
            "Python prigramming   \n",
            "   Python prigramming\n"
          ]
        }
      ]
    },
    {
      "cell_type": "code",
      "source": [
        "#9The replace() method replaces a specified charecter  with another specified charecter.\n",
        "s=\"Python is compiled language\"\n",
        "print(s.replace(\"compiled\",\"interpreted\"))\n"
      ],
      "metadata": {
        "colab": {
          "base_uri": "https://localhost:8080/"
        },
        "id": "fWlFtJncyU3v",
        "outputId": "be066a4f-96ff-4421-b5c7-68ce9f278753"
      },
      "execution_count": 11,
      "outputs": [
        {
          "output_type": "stream",
          "name": "stdout",
          "text": [
            "Python is interpreted language\n"
          ]
        }
      ]
    },
    {
      "cell_type": "code",
      "source": [
        "#10 string center() function will align the string at center.\n",
        "s=\"maha\"\n",
        "print(s.center(20,\"*\"))"
      ],
      "metadata": {
        "colab": {
          "base_uri": "https://localhost:8080/"
        },
        "id": "cysZuu5x0x05",
        "outputId": "d97628e9-6df1-40ef-d22e-44fe3891110b"
      },
      "execution_count": 13,
      "outputs": [
        {
          "output_type": "stream",
          "name": "stdout",
          "text": [
            "********maha********\n"
          ]
        }
      ]
    },
    {
      "cell_type": "code",
      "source": [
        "#11\n",
        "\"\"\"Compiler is program that converts the Highlevel programming language (source code) into low level language(machine language)\n",
        "   Interpreter is a computer program that directly executes the instructions of program,It execute the program line by line.\n",
        "\"\"\"\n",
        "#12 Python is a interpreted of compiled language give a clear ans with your understanding\n",
        "\"\"\" Python is an interpreted language, which means the source code of a Python program is converted into bytecode that is then executed by the Python virtual machine. \"\"\"\n"
      ],
      "metadata": {
        "colab": {
          "base_uri": "https://localhost:8080/",
          "height": 36
        },
        "id": "-459IZOZ2SQz",
        "outputId": "0ceeda6a-bf52-44d7-b266-166fd3566d66"
      },
      "execution_count": 14,
      "outputs": [
        {
          "output_type": "execute_result",
          "data": {
            "text/plain": [
              "' Python is an interpreted language, which means the source code of a Python program is converted into bytecode that is then executed by the Python virtual machine. '"
            ],
            "application/vnd.google.colaboratory.intrinsic+json": {
              "type": "string"
            }
          },
          "metadata": {},
          "execution_count": 14
        }
      ]
    }
  ]
}